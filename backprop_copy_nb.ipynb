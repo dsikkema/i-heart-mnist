{
 "cells": [
  {
   "cell_type": "code",
   "execution_count": null,
   "id": "b682b1f5-541b-48e9-b8ab-1de4d15ceac4",
   "metadata": {},
   "outputs": [],
   "source": [
    "import pickle,gzip,math,os,time,shutil,torch,matplotlib as mpl, numpy as np\n",
    "from pathlib import Path\n",
    "from torch import tensor\n",
    "from urllib.request import urlretrieve"
   ]
  },
  {
   "cell_type": "code",
   "execution_count": null,
   "id": "e40979f1-4ac3-4ac4-9756-0188ac4c01c5",
   "metadata": {},
   "outputs": [],
   "source": [
    "mpl.rcParams['image.cmap'] = 'gray'\n",
    "torch.set_printoptions(precision=2, linewidth=125, sci_mode=False)\n",
    "np.set_printoptions(precision=2, linewidth=125)\n",
    "MNIST_URL='https://github.com/mnielsen/neural-networks-and-deep-learning/blob/master/data/mnist.pkl.gz?raw=true'"
   ]
  },
  {
   "cell_type": "code",
   "execution_count": null,
   "id": "28b3a19e-fef5-41c5-83be-0af4c4077679",
   "metadata": {},
   "outputs": [],
   "source": [
    "path_data = Path('data')\n",
    "path_data.mkdir(exist_ok=True)\n",
    "path_gz = path_data/'mnist.pkl.gz'\n",
    "\n",
    "if not path_gz.exists():\n",
    "    urlretrieve(MNIST_URL, path_gz)"
   ]
  },
  {
   "cell_type": "code",
   "execution_count": 54,
   "id": "743e0e8f-94b4-46c8-af99-e3f9e5e33799",
   "metadata": {},
   "outputs": [],
   "source": [
    "with gzip.open(path_gz, 'rb') as f:\n",
    "    ((x_train, y_train), (x_valid, y_valid), _) = pickle.load(f, encoding='latin-1')\n",
    "    \n",
    "x_train, y_train, x_valid, y_valid = map(tensor, [x_train, y_train, x_valid, y_valid])\n",
    "x_train, y_train, x_valid, y_valid = map(lambda t: t.float(), [x_train, y_train, x_valid, y_valid])"
   ]
  },
  {
   "cell_type": "markdown",
   "id": "3325f4de-c8e8-4350-9b27-a93d6d760f83",
   "metadata": {},
   "source": [
    "## initialize params"
   ]
  },
  {
   "cell_type": "code",
   "execution_count": 55,
   "id": "7f226ba4-eff4-4023-998d-4fec65baeb0e",
   "metadata": {},
   "outputs": [
    {
     "data": {
      "text/plain": [
       "(50000, 784, tensor(10))"
      ]
     },
     "execution_count": 55,
     "metadata": {},
     "output_type": "execute_result"
    }
   ],
   "source": [
    "num_examples,num_in_features = x_train.shape\n",
    "num_out_features=10\n",
    "num_hidden_features=200"
   ]
  },
  {
   "cell_type": "code",
   "execution_count": 143,
   "id": "90854abd-a4b1-442e-b26a-721804eb8f5a",
   "metadata": {},
   "outputs": [],
   "source": [
    "w1 = torch.randn(num_in_features, num_hidden_features)\n",
    "b1 = torch.zeros(num_hidden_features)\n",
    "w2 = torch.randn(num_hidden_features, num_out_features)\n",
    "b2 = torch.zeros(num_out_features)"
   ]
  },
  {
   "cell_type": "code",
   "execution_count": null,
   "id": "1561593d-3a71-48cb-bc01-c9aa02af099a",
   "metadata": {},
   "outputs": [],
   "source": [
    "# note: init params as bound=sqrt(1/num_in_features), "
   ]
  },
  {
   "cell_type": "code",
   "execution_count": 20,
   "id": "121d1472-c3c8-4c1b-9877-52cab1d7da11",
   "metadata": {},
   "outputs": [
    {
     "name": "stdout",
     "output_type": "stream",
     "text": [
      "Object `tensor.uniform_` not found.\n"
     ]
    }
   ],
   "source": [
    "from torch import *\n",
    "tensor.uniform_?"
   ]
  },
  {
   "cell_type": "code",
   "execution_count": 18,
   "id": "69042623-a0e8-4253-81c4-2e5b7686e570",
   "metadata": {},
   "outputs": [
    {
     "data": {
      "text/plain": [
       "\u001b[0;31mSignature:\u001b[0m \u001b[0mmath\u001b[0m\u001b[0;34m.\u001b[0m\u001b[0mcos\u001b[0m\u001b[0;34m(\u001b[0m\u001b[0mx\u001b[0m\u001b[0;34m,\u001b[0m \u001b[0;34m/\u001b[0m\u001b[0;34m)\u001b[0m\u001b[0;34m\u001b[0m\u001b[0;34m\u001b[0m\u001b[0m\n",
       "\u001b[0;31mDocstring:\u001b[0m Return the cosine of x (measured in radians).\n",
       "\u001b[0;31mType:\u001b[0m      builtin_function_or_method\n"
      ]
     },
     "metadata": {},
     "output_type": "display_data"
    }
   ],
   "source": [
    "import math\n",
    "math.cos?"
   ]
  },
  {
   "cell_type": "code",
   "execution_count": null,
   "id": "c1a2186c-c9bb-4726-a730-36d399c8fe8a",
   "metadata": {},
   "outputs": [],
   "source": []
  }
 ],
 "metadata": {
  "kernelspec": {
   "display_name": "Python 3 (ipykernel)",
   "language": "python",
   "name": "python3"
  },
  "language_info": {
   "codemirror_mode": {
    "name": "ipython",
    "version": 3
   },
   "file_extension": ".py",
   "mimetype": "text/x-python",
   "name": "python",
   "nbconvert_exporter": "python",
   "pygments_lexer": "ipython3",
   "version": "3.9.13"
  }
 },
 "nbformat": 4,
 "nbformat_minor": 5
}
