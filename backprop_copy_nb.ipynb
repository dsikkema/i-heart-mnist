{
 "cells": [
  {
   "cell_type": "code",
   "execution_count": null,
   "id": "23b8b235-261c-4cdb-80af-899747254ab0",
   "metadata": {},
   "outputs": [],
   "source": [
    "import pickle,gzip,math,os,time,shutil,torch,matplotlib as mpl, numpy as np\n",
    "from pathlib import Path\n",
    "from torch import tensor\n",
    "from fastcore.test import test_close\n",
    "torch.manual_seed(42)\n",
    "\n",
    "mpl.rcParams['image.cmap'] = 'gray'\n",
    "torch.set_printoptions(precision=2, linewidth=125, sci_mode=False)\n",
    "np.set_printoptions(precision=2, linewidth=125)\n",
    "\n",
    "path_data = Path('data')\n",
    "path_gz = path_data/'mnist.pkl.gz'"
   ]
  },
  {
   "cell_type": "code",
   "execution_count": 54,
   "id": "743e0e8f-94b4-46c8-af99-e3f9e5e33799",
   "metadata": {},
   "outputs": [],
   "source": [
    "with gzip.open(path_gz, 'rb') as f: ((x_train, y_train), (x_valid, y_valid), _) = pickle.load(f, encoding='latin-1')\n",
    "x_train, y_train, x_valid, y_valid = map(tensor, [x_train, y_train, x_valid, y_valid])"
   ]
  },
  {
   "cell_type": "markdown",
   "id": "3325f4de-c8e8-4350-9b27-a93d6d760f83",
   "metadata": {},
   "source": [
    "## initialize params"
   ]
  },
  {
   "cell_type": "code",
   "execution_count": 55,
   "id": "7f226ba4-eff4-4023-998d-4fec65baeb0e",
   "metadata": {},
   "outputs": [
    {
     "data": {
      "text/plain": [
       "(50000, 784, tensor(10))"
      ]
     },
     "execution_count": 55,
     "metadata": {},
     "output_type": "execute_result"
    }
   ],
   "source": [
    "n,m = x_train.shape\n",
    "c = y_train.max() + 1\n",
    "n,m,c"
   ]
  },
  {
   "cell_type": "code",
   "execution_count": 142,
   "id": "2c737a1b-5eac-46d2-9582-3a19ea3dd20d",
   "metadata": {},
   "outputs": [],
   "source": [
    "nh = 200"
   ]
  },
  {
   "cell_type": "code",
   "execution_count": 143,
   "id": "90854abd-a4b1-442e-b26a-721804eb8f5a",
   "metadata": {},
   "outputs": [],
   "source": [
    "w1=torch.randn(m,nh)\n",
    "b1=torch.zeros(nh)\n",
    "w2=torch.randn(nh, 1)\n",
    "b2 = torch.zeros(1)"
   ]
  },
  {
   "cell_type": "markdown",
   "id": "6ddab804-0e53-4770-87bc-a001c607bc84",
   "metadata": {},
   "source": [
    "## code for model's layers, loss, and gradients"
   ]
  },
  {
   "cell_type": "code",
   "execution_count": 58,
   "id": "78096968-247c-4adf-9b92-e4db2c9bd1a8",
   "metadata": {},
   "outputs": [],
   "source": [
    "def lin(x, w, b):\n",
    "    return x@w + b"
   ]
  },
  {
   "cell_type": "code",
   "execution_count": 60,
   "id": "4df343ca-9e52-43f8-a4c7-89eff7de2352",
   "metadata": {},
   "outputs": [],
   "source": [
    "def relu(x):\n",
    "    return x.clamp_min(0.)"
   ]
  },
  {
   "cell_type": "code",
   "execution_count": 62,
   "id": "9261915f-3915-4e68-a10e-6dbbbdc6c66b",
   "metadata": {},
   "outputs": [
    {
     "data": {
      "text/plain": [
       "(tensor([5., 0., 4.,  ..., 8., 4., 8.]),\n",
       " tensor([3., 8., 6.,  ..., 5., 6., 8.]))"
      ]
     },
     "execution_count": 62,
     "metadata": {},
     "output_type": "execute_result"
    }
   ],
   "source": [
    "y_train,y_valid=map(lambda t: t.float(), (y_train,y_valid))\n",
    "y_train,y_valid"
   ]
  },
  {
   "cell_type": "code",
   "execution_count": 63,
   "id": "a7a8a4dd-331a-4916-b883-fa7016184b2e",
   "metadata": {},
   "outputs": [],
   "source": [
    "def mse(output, targ):\n",
    "    return (output[:,0]-targ).pow(2).mean()"
   ]
  },
  {
   "cell_type": "code",
   "execution_count": 64,
   "id": "301515ff-7d30-43d5-a476-a7a7499c2f40",
   "metadata": {},
   "outputs": [],
   "source": [
    "def lin_grad(inp, out, w, b):\n",
    "    inp.g = out.g @ w.t()\n",
    "    w.g = inp.t() @ out.g\n",
    "    b.g = out.g.sum(0)"
   ]
  },
  {
   "cell_type": "code",
   "execution_count": 65,
   "id": "c31ca8ee-6520-42d2-84dd-70afbcdb8cd3",
   "metadata": {},
   "outputs": [],
   "source": [
    "def forward_and_backward(xb, yb):\n",
    "    # forward\n",
    "    l1 = lin(xb, w1, b1)\n",
    "    l2 = relu(l1)\n",
    "    preds = lin(l2, w2, b2)\n",
    "    loss = mse(preds, yb)\n",
    "\n",
    "    # backpropagation\n",
    "    n=xb.shape[0]\n",
    "    '''\n",
    "    preds is shape (batch_size, num_activation_features) = (batch_size, 1), aka a column vector\n",
    "    yb shape is (batch_size) and needs to be transformed into column vector aka (batch_size, 1)\n",
    "    hence yb[:,None], in order to do elementwise subtraction\n",
    "    '''\n",
    "    preds.g = (2./n) * (preds-yb[:,None]) \n",
    "    lin_grad(l2, preds, w2, b2)\n",
    "    l1.g = (l1 > 0).float() * l2.g\n",
    "    lin_grad(xb, l1, w1, b1)"
   ]
  },
  {
   "cell_type": "code",
   "execution_count": 66,
   "id": "3d05ed5c-e163-434d-ae25-0e69420b5ca4",
   "metadata": {},
   "outputs": [],
   "source": [
    "forward_and_backward(x_train, y_train)"
   ]
  },
  {
   "cell_type": "markdown",
   "id": "3ae23959-6bea-4a09-a7cb-705cc87e9e48",
   "metadata": {},
   "source": [
    "## comparing gradients to pytorch computed gradients based on same (cloned) params and same (duplicated) forward pass"
   ]
  },
  {
   "cell_type": "code",
   "execution_count": 67,
   "id": "e13682f0-cbb6-4925-8e3c-8c5360879b37",
   "metadata": {},
   "outputs": [],
   "source": [
    "def get_homemade_grad(t):\n",
    "    return t.g.clone()"
   ]
  },
  {
   "cell_type": "code",
   "execution_count": 68,
   "id": "450bb75b-55e1-49ed-bb1d-580c3eb0cd74",
   "metadata": {},
   "outputs": [],
   "source": [
    "tensors = w1, b1, w2, b2, x_train\n",
    "my_grads = tuple(map(get_homemade_grad, tensors))"
   ]
  },
  {
   "cell_type": "code",
   "execution_count": 69,
   "id": "973e6f0d-da87-4c98-9c72-3eaed1ae0a40",
   "metadata": {},
   "outputs": [],
   "source": [
    "def clone_tensor_with_grads(t):\n",
    "    return t.clone().requires_grad_(True)"
   ]
  },
  {
   "cell_type": "code",
   "execution_count": 73,
   "id": "13da19fc-783d-49eb-9bfe-3cc8756335d0",
   "metadata": {},
   "outputs": [],
   "source": [
    "pt_tensors = tuple(map(clone_tensor_with_grads, tensors))\n",
    "w1c, b1c, w2c, b2c, x_trainc = pt_tensors"
   ]
  },
  {
   "cell_type": "code",
   "execution_count": 74,
   "id": "bd2c4194-ea05-4726-946e-de0ebc97bd45",
   "metadata": {},
   "outputs": [],
   "source": [
    "def forward_only(inp, targ):\n",
    "    l1 = lin(inp, w1c, b1c)\n",
    "    l2 = relu(l1)\n",
    "    out = lin(l2, w2c, b2c)\n",
    "    return mse(out, targ)"
   ]
  },
  {
   "cell_type": "code",
   "execution_count": 75,
   "id": "2a7c77f4-fe73-4621-8351-8fd1b6ec2e23",
   "metadata": {},
   "outputs": [],
   "source": [
    "loss = forward_only(x_trainc, y_train)\n",
    "loss.backward()"
   ]
  },
  {
   "cell_type": "code",
   "execution_count": 81,
   "id": "d9ad39bb-2ae7-4d1c-934b-7df5b8a0aefa",
   "metadata": {},
   "outputs": [
    {
     "name": "stdout",
     "output_type": "stream",
     "text": [
      "tensor(0.)\n",
      "tensor(0.)\n",
      "tensor(0.)\n",
      "tensor(0.)\n",
      "tensor(0.)\n"
     ]
    }
   ],
   "source": [
    "for my_grad,their_tensor in zip(my_grads, pt_tensors):\n",
    "    test_close(my_grad, their_tensor.grad, eps=0.01)"
   ]
  },
  {
   "cell_type": "markdown",
   "id": "8c036c76-6c94-4fb5-8208-d8335fed56db",
   "metadata": {},
   "source": [
    "## Refactor model into object oriented"
   ]
  },
  {
   "cell_type": "code",
   "execution_count": 84,
   "id": "5eceadaf-8bc8-4d0d-9942-c34902cccb92",
   "metadata": {},
   "outputs": [],
   "source": [
    "class Relu():\n",
    "    def __call__(self, inp):\n",
    "        self.inp = inp\n",
    "        self.out = inp.clamp_min(0.)\n",
    "        return self.out\n",
    "\n",
    "    def backward(self):\n",
    "        self.inp.g = (self.inp > 0).int() * self.out.g"
   ]
  },
  {
   "cell_type": "code",
   "execution_count": 85,
   "id": "79c3daa0-85bd-4ae0-8bbf-9b75b5a8249b",
   "metadata": {},
   "outputs": [],
   "source": [
    "class Lin():\n",
    "    def __init__(self, w, b):\n",
    "        self.w = w\n",
    "        self.b = b\n",
    "    def __call__(self, inp):\n",
    "        self.inp = inp\n",
    "        self.out = inp @ self.w + self.b\n",
    "        return self.out\n",
    "\n",
    "    def backward(self):\n",
    "        self.w.g = self.inp.t() @ self.out.g\n",
    "        self.b.g = self.out.g.sum(0)\n",
    "        self.inp.g = self.out.g @ self.w.t()"
   ]
  },
  {
   "cell_type": "code",
   "execution_count": 108,
   "id": "d715583b-e659-4679-aea6-a691707ebd82",
   "metadata": {},
   "outputs": [],
   "source": [
    "class Mse():\n",
    "    def __call__(self, preds, targ):\n",
    "        self.preds = preds\n",
    "        self.diff = preds - targ[:,None]\n",
    "        self.out = (self.diff).pow(2).mean()\n",
    "        return self.out\n",
    "\n",
    "    def backward(self):\n",
    "        self.preds.g = (2. / self.diff.shape[0]) * self.diff"
   ]
  },
  {
   "cell_type": "code",
   "execution_count": 91,
   "id": "382d0c4e-e11b-44cc-946f-6d44624b8d17",
   "metadata": {},
   "outputs": [],
   "source": [
    "class Model():\n",
    "    def __init__(self, w1, b1, w2, b2):\n",
    "        self.layers = [\n",
    "            Lin(w1, b1),\n",
    "            Relu(),\n",
    "            Lin(w2, b2)\n",
    "        ]\n",
    "        self.loss = Mse()\n",
    "\n",
    "    def __call__(self, x, y):\n",
    "        for l in self.layers:\n",
    "            x = l(x)\n",
    "        loss = self.loss(x, y)\n",
    "        return (x, loss)\n",
    "\n",
    "    def backward(self):\n",
    "        self.loss.backward()\n",
    "        for l in reversed(self.layers):\n",
    "            l.backward()\n"
   ]
  },
  {
   "cell_type": "code",
   "execution_count": 106,
   "id": "0ad0690b-299b-4d7a-9ea1-1d01a3085267",
   "metadata": {},
   "outputs": [],
   "source": [
    "model = Model(w1, b1, w2, b2)\n",
    "preds,loss = model(x_train, y_train)"
   ]
  },
  {
   "cell_type": "code",
   "execution_count": 146,
   "id": "55f4392b-4f5c-46ad-b2ec-44452bde03d5",
   "metadata": {},
   "outputs": [],
   "source": [
    "w1,w2,b1,b2,x_train,y_train = tuple(map(lambda t: t.to('cuda'), (w1,w2,b1,b2,x_train,y_train,)))"
   ]
  },
  {
   "cell_type": "code",
   "execution_count": 131,
   "id": "508daa1e-0113-41e4-9c7e-1073d0f77415",
   "metadata": {},
   "outputs": [],
   "source": [
    "def acc(preds, y):\n",
    "    return (preds[:,0].round() == y).half().mean()"
   ]
  },
  {
   "cell_type": "code",
   "execution_count": 144,
   "id": "e17fcefd-cc9a-49fc-a790-98b841717ea3",
   "metadata": {},
   "outputs": [],
   "source": [
    "pw1, pb1, pw2, pb2 = w1.clone(), b1.clone(), w2.clone(), b2.clone()"
   ]
  },
  {
   "cell_type": "code",
   "execution_count": 140,
   "id": "d0f4eeaf-c8f3-4f7c-b28e-3a5f894a9fbf",
   "metadata": {},
   "outputs": [],
   "source": [
    "w1, b1, w2, b2= pw1, pb1, pw2, pb2"
   ]
  },
  {
   "cell_type": "code",
   "execution_count": null,
   "id": "043780a8-f706-4aba-9a18-b710182557d1",
   "metadata": {},
   "outputs": [
    {
     "name": "stdout",
     "output_type": "stream",
     "text": [
      "0 tensor(7615.22, device='cuda:0') tensor(0.00, device='cuda:0', dtype=torch.float16)\n",
      "1000 tensor(8.36, device='cuda:0') tensor(0.10, device='cuda:0', dtype=torch.float16)\n",
      "2000 tensor(8.36, device='cuda:0') tensor(0.10, device='cuda:0', dtype=torch.float16)\n",
      "3000 tensor(8.36, device='cuda:0') tensor(0.10, device='cuda:0', dtype=torch.float16)\n",
      "4000 tensor(8.36, device='cuda:0') tensor(0.10, device='cuda:0', dtype=torch.float16)\n",
      "5000 tensor(8.36, device='cuda:0') tensor(0.10, device='cuda:0', dtype=torch.float16)\n",
      "6000 tensor(8.36, device='cuda:0') tensor(0.10, device='cuda:0', dtype=torch.float16)\n",
      "7000 tensor(8.36, device='cuda:0') tensor(0.10, device='cuda:0', dtype=torch.float16)\n",
      "8000 tensor(8.36, device='cuda:0') tensor(0.10, device='cuda:0', dtype=torch.float16)\n",
      "9000 tensor(8.36, device='cuda:0') tensor(0.10, device='cuda:0', dtype=torch.float16)\n",
      "10000 tensor(8.36, device='cuda:0') tensor(0.10, device='cuda:0', dtype=torch.float16)\n"
     ]
    }
   ],
   "source": [
    "lr = 0.05\n",
    "for i in range(1000000):\n",
    "    model = Model(w1, b1, w2, b2)\n",
    "    preds,loss = model(x_train, y_train)\n",
    "    model.backward()\n",
    "    if i % 1000 == 0:\n",
    "        print(i, loss,acc(preds, y_train))\n",
    "    w1 -= lr * w1.g\n",
    "    b1 -= lr * b1.g\n",
    "    w2 -= lr * w2.g\n",
    "    b2 -= lr * b2.g"
   ]
  },
  {
   "cell_type": "code",
   "execution_count": 133,
   "id": "b1f29697-f912-45ef-b1ef-32b97d145cb1",
   "metadata": {},
   "outputs": [
    {
     "data": {
      "text/plain": [
       "(tensor([[3.72],\n",
       "         [0.18],\n",
       "         [3.33],\n",
       "         [1.47],\n",
       "         [8.40]], device='cuda:0'),\n",
       " tensor([5., 0., 4., 1., 9.], device='cuda:0'))"
      ]
     },
     "execution_count": 133,
     "metadata": {},
     "output_type": "execute_result"
    }
   ],
   "source": [
    "preds[:5],y_train[:5]"
   ]
  },
  {
   "cell_type": "code",
   "execution_count": 132,
   "id": "6eff22f2-c423-4c17-91d3-2e134b0ad0cc",
   "metadata": {},
   "outputs": [
    {
     "data": {
      "text/plain": [
       "tensor(0.35, device='cuda:0', dtype=torch.float16)"
      ]
     },
     "execution_count": 132,
     "metadata": {},
     "output_type": "execute_result"
    }
   ],
   "source": [
    "acc(preds, y_train)"
   ]
  }
 ],
 "metadata": {
  "kernelspec": {
   "display_name": "Python 3 (ipykernel)",
   "language": "python",
   "name": "python3"
  },
  "language_info": {
   "codemirror_mode": {
    "name": "ipython",
    "version": 3
   },
   "file_extension": ".py",
   "mimetype": "text/x-python",
   "name": "python",
   "nbconvert_exporter": "python",
   "pygments_lexer": "ipython3",
   "version": "3.9.13"
  }
 },
 "nbformat": 4,
 "nbformat_minor": 5
}
