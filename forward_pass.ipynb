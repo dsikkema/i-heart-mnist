{
 "cells": [
  {
   "cell_type": "code",
   "execution_count": 1,
   "id": "b682b1f5-541b-48e9-b8ab-1de4d15ceac4",
   "metadata": {},
   "outputs": [],
   "source": [
    "import pickle,gzip,math,os,time,shutil,torch,matplotlib as mpl, numpy as np,matplotlib.pyplot as plt\n",
    "from pathlib import Path\n",
    "from torch import tensor\n",
    "from urllib.request import urlretrieve"
   ]
  },
  {
   "cell_type": "code",
   "execution_count": 2,
   "id": "e40979f1-4ac3-4ac4-9756-0188ac4c01c5",
   "metadata": {},
   "outputs": [],
   "source": [
    "mpl.rcParams['image.cmap'] = 'gray'\n",
    "torch.set_printoptions(precision=2, linewidth=125, sci_mode=False)\n",
    "np.set_printoptions(precision=2, linewidth=125)\n",
    "MNIST_URL='https://github.com/mnielsen/neural-networks-and-deep-learning/blob/master/data/mnist.pkl.gz?raw=true'"
   ]
  },
  {
   "cell_type": "code",
   "execution_count": 3,
   "id": "28b3a19e-fef5-41c5-83be-0af4c4077679",
   "metadata": {},
   "outputs": [],
   "source": [
    "path_data = Path('data')\n",
    "path_data.mkdir(exist_ok=True)\n",
    "path_gz = path_data/'mnist.pkl.gz'\n",
    "\n",
    "if not path_gz.exists():\n",
    "    urlretrieve(MNIST_URL, path_gz)"
   ]
  },
  {
   "cell_type": "code",
   "execution_count": 4,
   "id": "b108a17e-a5f8-49e8-86fa-b8e79a7ab024",
   "metadata": {},
   "outputs": [],
   "source": [
    "with gzip.open(path_gz, 'rb') as f:\n",
    "    ((x_train, y_train), (x_valid, y_valid), _) = pickle.load(f, encoding='latin-1')\n",
    "    \n",
    "x_train, y_train, x_valid, y_valid = map(tensor, [x_train, y_train, x_valid, y_valid])"
   ]
  },
  {
   "cell_type": "code",
   "execution_count": 5,
   "id": "fbed8c79-abbf-4ba2-9c06-340dabf160ba",
   "metadata": {},
   "outputs": [],
   "source": [
    "TRAIN_SIZE=x_train.shape[0]\n",
    "BATCH_SIZE=10000\n",
    "LEARNING_RATE = 0.1"
   ]
  },
  {
   "cell_type": "code",
   "execution_count": 6,
   "id": "9737beae-b8f7-4d3a-ad66-7453e2e58da5",
   "metadata": {},
   "outputs": [],
   "source": [
    "def init_params(size):\n",
    "    '''\n",
    "    Xavier Weight Initialization\n",
    "    strategy for initializing values of weights meant to prevent gradient vanishing or explosion.\n",
    "    '''\n",
    "    bound = math.sqrt(1.0 / size[0])\n",
    "    return torch.randn(size).uniform_(-bound, bound).requires_grad_()\n",
    "\n",
    "def softmax(x):\n",
    "    e=x.exp()\n",
    "    return e / e.sum(-1,keepdim=True)\n",
    "\n",
    "def CrossEntropyLoss(p,y):\n",
    "    losst = -(p[range(p.shape[0]),y].log())\n",
    "    result = losst.mean()\n",
    "    return result\n",
    "\n",
    "class HomebrewModel:\n",
    "    def __init__(self):\n",
    "        '''\n",
    "        784: number of input features (pixels in 28x28 image)\n",
    "        200: number of feaures in the hidden layer (can be arbitrarily chosen)\n",
    "        '''\n",
    "        self.weights1 = init_params((784, 200)) # \n",
    "        self.bias1    = init_params((200, ))\n",
    "        '''\n",
    "        200: match the output coming from features of hidden layer\n",
    "        10: 10 possible output classifications (corresponding to the digits 0-9)\n",
    "        '''\n",
    "        self.weights2 = init_params((200, 10))\n",
    "        self.bias2    = init_params((10,))\n",
    "        \n",
    "    def predict(self,x):\n",
    "        # For each feature of the hidden layer, sum the products of each input feature with a corresponding weight and add a bias\n",
    "        x = (x@self.weights1 + self.bias1)\n",
    "        \n",
    "        # This is relu aka rectified linear unit activation\n",
    "        x = x.max(tensor(0.0))\n",
    "        \n",
    "        x = (x@self.weights2 + self.bias2)\n",
    "        \n",
    "        return softmax(x)\n",
    "    \n",
    "    def parameters(self):\n",
    "        return [self.weights1, self.bias1, self.weights2, self.bias2]\n"
   ]
  },
  {
   "cell_type": "code",
   "execution_count": 9,
   "id": "a79c5a64-79e6-460a-a880-b4c419cb2ab8",
   "metadata": {},
   "outputs": [],
   "source": [
    "'''\n",
    "epoch goes through entire training set\n",
    "'''\n",
    "def train_epoch(model):\n",
    "    rand_indexes=torch.randperm(TRAIN_SIZE)\n",
    "    '''\n",
    "    each batch is a random subset of the training set, loop over batches to cover all training data\n",
    "    '''\n",
    "    for i in range(0, TRAIN_SIZE, BATCH_SIZE):\n",
    "        # pull the random batch\n",
    "        idxs = rand_indexes[i : i + BATCH_SIZE]\n",
    "        xb = x_train[idxs]\n",
    "        yb = y_train[idxs]\n",
    "        train_batch(model, xb, yb)\n",
    "\n",
    "                \n",
    "    # at the end of epoch, check model performance against validation data\n",
    "    with torch.no_grad():\n",
    "        valid_preds = model.predict(x_valid)\n",
    "        validation_acc = batch_accuracy(valid_preds, y_valid)\n",
    "        validation_loss = CrossEntropyLoss(valid_preds, y_valid)\n",
    "        print(f'valid/acc: {validation_acc}\\t valid/loss: {validation_loss}')\n",
    "\n",
    "def train_batch(model, xb, yb):\n",
    "    preds = model.predict(xb)\n",
    "    loss = CrossEntropyLoss(preds, yb)\n",
    "\n",
    "    # compute gradients: done by pytorch, see next notebook for backpropagation demonstration\n",
    "    loss.backward()\n",
    "\n",
    "    with torch.no_grad():\n",
    "        # update parameters to descend the gradient\n",
    "        for p in model.parameters():\n",
    "            p -= LEARNING_RATE * p.grad\n",
    "            p.grad.zero_()   \n",
    "    \n",
    "def batch_accuracy(preds_b, yb):\n",
    "    correct = (preds_b.argmax(1)) == yb\n",
    "    return correct.float().mean()"
   ]
  },
  {
   "cell_type": "code",
   "execution_count": 11,
   "id": "93158cfc-ecaa-4732-81d4-69a9d986cbe0",
   "metadata": {},
   "outputs": [
    {
     "name": "stdout",
     "output_type": "stream",
     "text": [
      "valid/acc: 0.31630000472068787\t valid/loss: 2.2338171005249023\n",
      "valid/acc: 0.501800000667572\t valid/loss: 2.135357141494751\n",
      "valid/acc: 0.652999997138977\t valid/loss: 2.013731002807617\n",
      "valid/acc: 0.7150999903678894\t valid/loss: 1.8661423921585083\n",
      "valid/acc: 0.744700014591217\t valid/loss: 1.699747085571289\n",
      "valid/acc: 0.7605000138282776\t valid/loss: 1.5276660919189453\n",
      "valid/acc: 0.774399995803833\t valid/loss: 1.363646388053894\n",
      "valid/acc: 0.79339998960495\t valid/loss: 1.2170644998550415\n",
      "valid/acc: 0.8091999888420105\t valid/loss: 1.09235680103302\n",
      "valid/acc: 0.8242999911308289\t valid/loss: 0.9891880750656128\n",
      "valid/acc: 0.8374000191688538\t valid/loss: 0.9042708277702332\n",
      "valid/acc: 0.843500018119812\t valid/loss: 0.8345410227775574\n",
      "valid/acc: 0.8482999801635742\t valid/loss: 0.7767245173454285\n",
      "valid/acc: 0.8522999882698059\t valid/loss: 0.7283707857131958\n",
      "valid/acc: 0.8586000204086304\t valid/loss: 0.6873461604118347\n",
      "valid/acc: 0.8644999861717224\t valid/loss: 0.6524133086204529\n",
      "valid/acc: 0.8683000206947327\t valid/loss: 0.6221764087677002\n",
      "valid/acc: 0.8722000122070312\t valid/loss: 0.5958212018013\n",
      "valid/acc: 0.8745999932289124\t valid/loss: 0.5728324055671692\n",
      "valid/acc: 0.8769999742507935\t valid/loss: 0.5523715615272522\n",
      "valid/acc: 0.8791999816894531\t valid/loss: 0.5343291759490967\n",
      "valid/acc: 0.8819000124931335\t valid/loss: 0.5179592967033386\n",
      "valid/acc: 0.8840000033378601\t valid/loss: 0.5034510493278503\n",
      "valid/acc: 0.8870999813079834\t valid/loss: 0.49027737975120544\n",
      "valid/acc: 0.8877000212669373\t valid/loss: 0.4783141613006592\n"
     ]
    }
   ],
   "source": [
    "model = HomebrewModel()\n",
    "for epoch in range(25):\n",
    "    train_epoch(model)"
   ]
  },
  {
   "cell_type": "markdown",
   "id": "9fdc009a-0df2-4313-98ca-964ebdb3498b",
   "metadata": {},
   "source": [
    "# Pick a random number and try\n",
    "Run cell below to pick a random number from the training set, see it, and see the prediction made for it"
   ]
  },
  {
   "cell_type": "code",
   "execution_count": 24,
   "id": "fbc5130e-0e91-4df2-8c89-86a49f8c7f27",
   "metadata": {},
   "outputs": [
    {
     "name": "stdout",
     "output_type": "stream",
     "text": [
      "Prediction: 9\n",
      "Confidence: 41.6%\n"
     ]
    },
    {
     "data": {
      "text/plain": [
       "<matplotlib.image.AxesImage at 0x7f002d5ed4c0>"
      ]
     },
     "execution_count": 24,
     "metadata": {},
     "output_type": "execute_result"
    },
    {
     "data": {
      "image/png": "[encoded data removed]",
      "text/plain": [
       "<Figure size 432x288 with 1 Axes>"
      ]
     },
     "metadata": {
      "needs_background": "light"
     },
     "output_type": "display_data"
    }
   ],
   "source": [
    "i=torch.randint(0,60000-1, (1,)).item()\n",
    "preds = model.predict(x_train[i])\n",
    "prediction = preds.argmax()\n",
    "confidence = preds[prediction]\n",
    "print(f'Prediction: {prediction}\\nConfidence: {confidence:.1%}')\n",
    "plt.imshow(x_train[i].view(28, 28) * -1.0)"
   ]
  }
 ],
 "metadata": {
  "kernelspec": {
   "display_name": "Python 3 (ipykernel)",
   "language": "python",
   "name": "python3"
  },
  "language_info": {
   "codemirror_mode": {
    "name": "ipython",
    "version": 3
   },
   "file_extension": ".py",
   "mimetype": "text/x-python",
   "name": "python",
   "nbconvert_exporter": "python",
   "pygments_lexer": "ipython3",
   "version": "3.9.13"
  }
 },
 "nbformat": 4,
 "nbformat_minor": 5
}
