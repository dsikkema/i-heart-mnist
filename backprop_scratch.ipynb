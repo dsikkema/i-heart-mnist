{
 "cells": [
  {
   "cell_type": "code",
   "execution_count": 1,
   "id": "013dd408-cc24-4b3e-869f-b89caab6a438",
   "metadata": {},
   "outputs": [],
   "source": [
    "from torch import tensor\n",
    "import torch"
   ]
  },
  {
   "cell_type": "code",
   "execution_count": 2,
   "id": "efcaad9a-4883-4cb8-9a65-12d81c7065e7",
   "metadata": {},
   "outputs": [
    {
     "data": {
      "text/plain": [
       "'\\npredict sum of three numbers plus one\\n'"
      ]
     },
     "execution_count": 2,
     "metadata": {},
     "output_type": "execute_result"
    }
   ],
   "source": [
    "'''\n",
    "predict sum of three numbers plus one\n",
    "'''"
   ]
  },
  {
   "cell_type": "code",
   "execution_count": 129,
   "id": "e14926b8-fa59-4356-b671-db364ed10d43",
   "metadata": {},
   "outputs": [],
   "source": [
    "x = torch.randint(-100,100,(100000,10)).float().to('cuda')\n",
    "w1=torch.rand(10,10).to('cuda')-1\n",
    "b1=torch.rand(10).to('cuda')-1\n",
    "w2=torch.rand(10,1).to('cuda')-1\n",
    "b2=torch.rand(1).to('cuda')-1\n",
    "\n",
    "y=x.sum(1) + 1\n",
    "lr=0.000001"
   ]
  },
  {
   "cell_type": "code",
   "execution_count": 139,
   "id": "7a722b43-35ab-4051-9d5e-f87d5ef40333",
   "metadata": {},
   "outputs": [
    {
     "name": "stdout",
     "output_type": "stream",
     "text": [
      "--- 0 tensor(0.0004, device='cuda:0')\n",
      "--- 10000 tensor(0.0004, device='cuda:0')\n",
      "--- 20000 tensor(0.0004, device='cuda:0')\n",
      "--- 30000 tensor(0.0003, device='cuda:0')\n",
      "--- 40000 tensor(0.0003, device='cuda:0')\n",
      "--- 50000 tensor(0.0003, device='cuda:0')\n",
      "--- 60000 tensor(0.0003, device='cuda:0')\n",
      "--- 70000 tensor(0.0002, device='cuda:0')\n",
      "--- 80000 tensor(0.0002, device='cuda:0')\n",
      "--- 90000 tensor(0.0002, device='cuda:0')\n",
      "--- 100000 tensor(0.0002, device='cuda:0')\n",
      "--- 110000 tensor(0.0002, device='cuda:0')\n",
      "--- 120000 tensor(0.0002, device='cuda:0')\n",
      "--- 130000 tensor(0.0001, device='cuda:0')\n",
      "--- 140000 tensor(0.0001, device='cuda:0')\n",
      "--- 150000 tensor(0.0001, device='cuda:0')\n",
      "--- 160000 tensor(0.0001, device='cuda:0')\n",
      "--- 170000 tensor(9.7407e-05, device='cuda:0')\n",
      "--- 180000 tensor(8.8266e-05, device='cuda:0')\n",
      "--- 190000 tensor(8.0752e-05, device='cuda:0')\n",
      "--- 200000 tensor(7.3767e-05, device='cuda:0')\n",
      "--- 210000 tensor(6.7028e-05, device='cuda:0')\n",
      "--- 220000 tensor(6.1289e-05, device='cuda:0')\n",
      "--- 230000 tensor(5.6490e-05, device='cuda:0')\n",
      "--- 240000 tensor(5.1893e-05, device='cuda:0')\n",
      "--- 250000 tensor(4.7503e-05, device='cuda:0')\n",
      "--- 260000 tensor(4.3392e-05, device='cuda:0')\n",
      "--- 270000 tensor(3.9574e-05, device='cuda:0')\n",
      "--- 280000 tensor(3.5819e-05, device='cuda:0')\n",
      "--- 290000 tensor(3.2463e-05, device='cuda:0')\n",
      "--- 300000 tensor(3.0619e-05, device='cuda:0')\n",
      "--- 310000 tensor(2.9384e-05, device='cuda:0')\n",
      "--- 320000 tensor(2.8023e-05, device='cuda:0')\n",
      "--- 330000 tensor(2.6810e-05, device='cuda:0')\n",
      "--- 340000 tensor(2.5647e-05, device='cuda:0')\n",
      "--- 350000 tensor(2.4515e-05, device='cuda:0')\n",
      "--- 360000 tensor(2.3328e-05, device='cuda:0')\n",
      "--- 370000 tensor(2.2293e-05, device='cuda:0')\n",
      "--- 380000 tensor(2.1209e-05, device='cuda:0')\n",
      "--- 390000 tensor(2.0127e-05, device='cuda:0')\n",
      "--- 400000 tensor(1.9263e-05, device='cuda:0')\n",
      "--- 410000 tensor(1.8383e-05, device='cuda:0')\n",
      "--- 420000 tensor(1.7397e-05, device='cuda:0')\n",
      "--- 430000 tensor(1.6631e-05, device='cuda:0')\n",
      "--- 440000 tensor(1.5750e-05, device='cuda:0')\n",
      "--- 450000 tensor(1.4936e-05, device='cuda:0')\n",
      "--- 460000 tensor(1.4203e-05, device='cuda:0')\n",
      "--- 470000 tensor(1.3413e-05, device='cuda:0')\n",
      "--- 480000 tensor(1.2703e-05, device='cuda:0')\n",
      "--- 490000 tensor(1.2056e-05, device='cuda:0')\n",
      "--- 500000 tensor(1.1353e-05, device='cuda:0')\n",
      "--- 510000 tensor(1.0747e-05, device='cuda:0')\n",
      "--- 520000 tensor(1.0173e-05, device='cuda:0')\n",
      "--- 530000 tensor(9.5845e-06, device='cuda:0')\n",
      "--- 540000 tensor(9.0147e-06, device='cuda:0')\n",
      "--- 550000 tensor(8.5350e-06, device='cuda:0')\n",
      "--- 560000 tensor(7.9952e-06, device='cuda:0')\n",
      "--- 570000 tensor(7.5033e-06, device='cuda:0')\n",
      "--- 580000 tensor(7.0552e-06, device='cuda:0')\n",
      "--- 590000 tensor(6.5852e-06, device='cuda:0')\n",
      "--- 600000 tensor(6.1862e-06, device='cuda:0')\n",
      "--- 610000 tensor(5.7870e-06, device='cuda:0')\n",
      "--- 620000 tensor(5.4136e-06, device='cuda:0')\n",
      "--- 630000 tensor(5.0248e-06, device='cuda:0')\n",
      "--- 640000 tensor(4.6710e-06, device='cuda:0')\n",
      "--- 650000 tensor(4.3485e-06, device='cuda:0')\n",
      "--- 660000 tensor(4.0177e-06, device='cuda:0')\n",
      "--- 670000 tensor(3.7206e-06, device='cuda:0')\n",
      "--- 680000 tensor(3.4626e-06, device='cuda:0')\n",
      "--- 690000 tensor(3.4538e-06, device='cuda:0')\n",
      "--- 700000 tensor(3.4441e-06, device='cuda:0')\n",
      "--- 710000 tensor(3.4306e-06, device='cuda:0')\n",
      "--- 720000 tensor(3.4254e-06, device='cuda:0')\n",
      "--- 730000 tensor(3.4184e-06, device='cuda:0')\n",
      "--- 740000 tensor(3.3987e-06, device='cuda:0')\n",
      "--- 750000 tensor(3.3977e-06, device='cuda:0')\n",
      "--- 760000 tensor(3.3936e-06, device='cuda:0')\n",
      "--- 770000 tensor(3.3830e-06, device='cuda:0')\n",
      "--- 780000 tensor(3.3799e-06, device='cuda:0')\n",
      "--- 790000 tensor(3.3662e-06, device='cuda:0')\n",
      "--- 800000 tensor(3.3591e-06, device='cuda:0')\n",
      "--- 810000 tensor(3.3476e-06, device='cuda:0')\n",
      "--- 820000 tensor(3.3466e-06, device='cuda:0')\n",
      "--- 830000 tensor(3.3333e-06, device='cuda:0')\n",
      "--- 840000 tensor(3.3231e-06, device='cuda:0')\n",
      "--- 850000 tensor(3.3118e-06, device='cuda:0')\n",
      "--- 860000 tensor(3.3092e-06, device='cuda:0')\n",
      "--- 870000 tensor(3.2987e-06, device='cuda:0')\n",
      "--- 880000 tensor(3.2977e-06, device='cuda:0')\n",
      "--- 890000 tensor(3.2798e-06, device='cuda:0')\n",
      "--- 900000 tensor(3.2728e-06, device='cuda:0')\n",
      "--- 910000 tensor(3.2720e-06, device='cuda:0')\n",
      "--- 920000 tensor(3.2493e-06, device='cuda:0')\n",
      "--- 930000 tensor(3.2533e-06, device='cuda:0')\n",
      "--- 940000 tensor(3.2464e-06, device='cuda:0')\n",
      "--- 950000 tensor(3.2458e-06, device='cuda:0')\n",
      "--- 960000 tensor(3.2274e-06, device='cuda:0')\n",
      "--- 970000 tensor(3.2216e-06, device='cuda:0')\n",
      "--- 980000 tensor(3.2096e-06, device='cuda:0')\n",
      "--- 990000 tensor(3.2119e-06, device='cuda:0')\n"
     ]
    },
    {
     "data": {
      "text/plain": [
       "(tensor([  89,   84,  185,  -12, -113,  -38,  -43,  193,  -67,  176],\n",
       "        device='cuda:0', dtype=torch.int32),\n",
       " tensor([  89,   84,  185,  -12, -113,  -38,  -43,  193,  -67,  176],\n",
       "        device='cuda:0', dtype=torch.int32),\n",
       " 'acc',\n",
       " tensor(1., device='cuda:0'),\n",
       " 'mae',\n",
       " tensor(0.0018, device='cuda:0'))"
      ]
     },
     "execution_count": 139,
     "metadata": {},
     "output_type": "execute_result"
    }
   ],
   "source": [
    "for i in range(1000000):\n",
    "    idxs=torch.randint(0,x.shape[0],(1000,))\n",
    "    mb=x[idxs]\n",
    "    mby=y[idxs]\n",
    "    \n",
    "    \n",
    "    z1=mb@w1 + b1\n",
    "    z1=z1.squeeze()\n",
    "    a1 = z1.clone()\n",
    "    \n",
    "    z2 = a1 @ w2 + b2\n",
    "    z2 = z2.squeeze()\n",
    "    a2 = z2.relu()\n",
    "    \n",
    "    loss = (a2-mby).pow(2).mean()\n",
    "    if i == 21000:\n",
    "        None#import pdb; pdb.set_trace()\n",
    "    \n",
    "    # layer 2\n",
    "    dlda=2*(a2-mby) / mb.shape[0]\n",
    "    dadz=(z2>0).float()\n",
    "    dldz=(dlda) * dadz # same length of batch size\n",
    "    \n",
    "    dldw = a1.t() @ dldz[:,None]\n",
    "    dldb=(dldz).sum()\n",
    "    dldz.shape,dldw.shape,dldb\n",
    "    \n",
    "    dldz.shape,w2.shape\n",
    "    \n",
    "    # layer 1 \n",
    "    dlda1 = dldz[:,None] @ w2.t()\n",
    "    \n",
    "    da1dz1=(z1 > 0).float()\n",
    "    dldz1=dlda1 * da1dz1\n",
    "    \n",
    "    \n",
    "    dldw1=mb.t() @ dldz1\n",
    "    dldb1 = dldz1.sum(0)\n",
    "\n",
    "    w2 -= lr * dldw\n",
    "    b2 -= lr * dldb\n",
    "    w1 -= lr * dldw1\n",
    "    b1 -= lr * dldb1\n",
    "    \n",
    "    if i%10000 == 0:\n",
    "        print('---',i,loss)#,w2.grad[:10], dldw[:10],w1.grad[:10],dldw1[:10])\n",
    "\n",
    "z1=x@w1 + b1\n",
    "z1=z1.squeeze()\n",
    "\n",
    "z2 = z1 @ w2 + b2\n",
    "z2 = z2.squeeze()\n",
    "acc = (z2.round().int() == y.int()).float().mean()\n",
    "mae = (z2-y).abs().mean()\n",
    "z2[:10].round().int(),y[:10].int(),'acc',acc,'mae',mae"
   ]
  },
  {
   "cell_type": "code",
   "execution_count": 134,
   "id": "074b65d7-beb2-4dd4-9bb0-c3d06870dde1",
   "metadata": {},
   "outputs": [
    {
     "data": {
      "text/plain": [
       "(tensor([  89,   84,  185,  -12, -113,  -38,  -43,  193,  -67,  176],\n",
       "        device='cuda:0', dtype=torch.int32),\n",
       " tensor([  89,   84,  185,  -12, -113,  -38,  -43,  193,  -67,  176],\n",
       "        device='cuda:0', dtype=torch.int32),\n",
       " 'acc',\n",
       " tensor(1., device='cuda:0'),\n",
       " 'mae',\n",
       " tensor(0.0343, device='cuda:0'))"
      ]
     },
     "execution_count": 134,
     "metadata": {},
     "output_type": "execute_result"
    }
   ],
   "source": [
    "z1=x@w1 + b1\n",
    "z1=z1.squeeze()\n",
    "\n",
    "z2 = z1 @ w2 + b2\n",
    "z2 = z2.squeeze()\n",
    "acc = (z2.round().int() == y.int()).float().mean()\n",
    "mae = (z2-y).abs().mean()\n",
    "z2[:10].round().int(),y[:10].int(),'acc',acc,'mae',mae"
   ]
  },
  {
   "cell_type": "code",
   "execution_count": 125,
   "id": "878183c0-74e8-42a6-90d0-894f88139451",
   "metadata": {},
   "outputs": [
    {
     "data": {
      "text/plain": [
       "tensor(33339.6562, device='cuda:0')"
      ]
     },
     "execution_count": 125,
     "metadata": {},
     "output_type": "execute_result"
    }
   ],
   "source": [
    "\n",
    "acc = (a2.round().int() == y.int()).float().mean()\n",
    "mae = (a2-y).abs().mean()\n",
    "loss = (a2-y).pow(2).mean()\n",
    "a2[:10].int(),y[:10].int(),'acc',acc,'mae',mae,a2[:5],y[:5],a2[:5]-y[:5]\n",
    "loss"
   ]
  },
  {
   "cell_type": "code",
   "execution_count": 114,
   "id": "1166ac18-ac05-4705-9316-3db3c4718269",
   "metadata": {},
   "outputs": [
    {
     "data": {
      "text/plain": [
       "tensor(0.0555, device='cuda:0')"
      ]
     },
     "execution_count": 114,
     "metadata": {},
     "output_type": "execute_result"
    }
   ],
   "source": [
    "loss\n"
   ]
  },
  {
   "cell_type": "code",
   "execution_count": 137,
   "id": "ed4cd583-e66a-432e-9de3-08d341fe6035",
   "metadata": {},
   "outputs": [
    {
     "data": {
      "text/plain": [
       "(tensor([[-0.7461, -0.1930, -0.9312, -0.6244, -0.7052, -0.1128, -0.4714, -0.0189,\n",
       "          -0.1588, -0.5772],\n",
       "         [-0.3844, -0.3392, -0.2219, -0.1324, -0.6498, -0.3111, -0.4487, -0.1578,\n",
       "          -0.9524, -0.5750],\n",
       "         [-0.3716, -0.3072, -0.0829, -0.3593, -0.7935, -0.2286, -0.3399, -0.5763,\n",
       "          -0.1856, -0.2675],\n",
       "         [-0.1411, -0.3599, -0.5494, -0.4850, -0.4886, -0.5729, -0.5762, -0.7150,\n",
       "          -0.2230, -0.8568],\n",
       "         [-0.3387, -0.8364, -0.0457, -0.2867, -0.6966, -0.8386, -0.0061, -0.7016,\n",
       "          -0.2149, -0.4239],\n",
       "         [-0.0217, -0.4156, -0.9581, -0.1733, -0.1610, -0.3001, -0.5437, -0.7551,\n",
       "          -0.5182, -0.5947],\n",
       "         [-0.5053,  0.0902, -0.6820, -0.8513, -0.8712, -0.1698, -0.5218, -0.5694,\n",
       "          -0.2277, -0.9707],\n",
       "         [-0.5630, -0.7109, -0.9070, -0.7813, -0.2540, -0.3079, -0.0867, -0.7027,\n",
       "          -0.4645, -0.1795],\n",
       "         [-0.6115, -0.4992, -0.5287, -0.6309, -0.3650, -0.3525, -0.2978, -0.3643,\n",
       "          -0.7676, -0.7221],\n",
       "         [-0.3145, -0.3758, -0.8743, -0.3308, -0.7531, -0.1517, -0.4669, -0.1964,\n",
       "          -0.6369, -0.2238]], device='cuda:0'),\n",
       " tensor([[-0.6547],\n",
       "         [-0.3762],\n",
       "         [-0.0843],\n",
       "         [ 0.2700],\n",
       "         [-0.2888],\n",
       "         [ 0.0255],\n",
       "         [-0.6383],\n",
       "         [-0.4705],\n",
       "         [-0.0994],\n",
       "         [-0.0047]], device='cuda:0'),\n",
       " tensor([-0.2013, -0.6005, -0.7627, -0.4053, -0.8254, -0.2198, -0.6382, -0.1308,\n",
       "         -0.7346, -0.4225], device='cuda:0'),\n",
       " tensor([-0.1236], device='cuda:0'))"
      ]
     },
     "execution_count": 137,
     "metadata": {},
     "output_type": "execute_result"
    }
   ],
   "source": [
    "w1,w2,b1,b2"
   ]
  }
 ],
 "metadata": {
  "kernelspec": {
   "display_name": "Python 3 (ipykernel)",
   "language": "python",
   "name": "python3"
  },
  "language_info": {
   "codemirror_mode": {
    "name": "ipython",
    "version": 3
   },
   "file_extension": ".py",
   "mimetype": "text/x-python",
   "name": "python",
   "nbconvert_exporter": "python",
   "pygments_lexer": "ipython3",
   "version": "3.9.13"
  }
 },
 "nbformat": 4,
 "nbformat_minor": 5
}
