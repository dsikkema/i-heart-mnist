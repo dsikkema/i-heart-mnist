{
 "cells": [
  {
   "cell_type": "markdown",
   "id": "33d48287-cdd6-4c3d-ad1e-3e09c645f1ef",
   "metadata": {},
   "source": [
    "# Introduction"
   ]
  },
  {
   "cell_type": "markdown",
   "id": "24fde7d5-0f32-4347-9f1a-7e539d204563",
   "metadata": {},
   "source": [
    "In this notebook we will implement and use Dropout, as introduced in the paper [Dropout: A Simple Way to Prevent Neural Networks from Overfitting](https://jmlr.org/papers/volume15/srivastava14a/srivastava14a.pdf). For simplicity's sake we'll pretty much use the same handmade training loop we wrote in the Forward Pass demo, but this time we'll use some pytorch componenents for parts of the model other than Dropout to focus more on what we're actually building."
   ]
  },
  {
   "cell_type": "code",
   "execution_count": 1,
   "id": "b682b1f5-541b-48e9-b8ab-1de4d15ceac4",
   "metadata": {},
   "outputs": [],
   "source": [
    "import pickle,gzip,math,os,time,shutil,torch,matplotlib as mpl, numpy as np,matplotlib.pyplot as plt\n",
    "from pathlib import Path\n",
    "import torch\n",
    "from urllib.request import urlretrieve\n",
    "import torch.nn.functional as F\n",
    "import torch.nn as nn"
   ]
  },
  {
   "cell_type": "code",
   "execution_count": 2,
   "id": "e40979f1-4ac3-4ac4-9756-0188ac4c01c5",
   "metadata": {},
   "outputs": [],
   "source": [
    "mpl.rcParams['image.cmap'] = 'gray'\n",
    "torch.set_printoptions(precision=2, linewidth=125, sci_mode=False)\n",
    "np.set_printoptions(precision=2, linewidth=125)\n",
    "MNIST_URL='https://github.com/mnielsen/neural-networks-and-deep-learning/blob/master/data/mnist.pkl.gz?raw=true'"
   ]
  },
  {
   "cell_type": "markdown",
   "id": "25c2bc74-4223-4546-a037-416bf1e2884b",
   "metadata": {},
   "source": [
    "Let's start by downloading the data if necessary an unpacking it into tensors that are on the GPU. I'll assume throughout that a GPU is available."
   ]
  },
  {
   "cell_type": "code",
   "execution_count": 3,
   "id": "843f5e57-1eac-4787-bd67-2316c6fbe97f",
   "metadata": {},
   "outputs": [
    {
     "data": {
      "text/plain": [
       "[torch.Size([50000, 784]),\n",
       " torch.Size([50000]),\n",
       " torch.Size([10000, 784]),\n",
       " torch.Size([10000])]"
      ]
     },
     "execution_count": 3,
     "metadata": {},
     "output_type": "execute_result"
    }
   ],
   "source": [
    "path_data = Path('data')\n",
    "path_data.mkdir(exist_ok=True)\n",
    "path_gz = path_data/'mnist.pkl.gz'\n",
    "\n",
    "if not path_gz.exists():\n",
    "    print('downloading MNIST...')\n",
    "    urlretrieve(MNIST_URL, path_gz)\n",
    "\n",
    "with gzip.open(path_gz, 'rb') as f:\n",
    "    ((x_train, y_train), (x_valid, y_valid), _) = pickle.load(f, encoding='latin-1')\n",
    "\n",
    "def to_cuda_tensor(lst):\n",
    "    t=torch.tensor(lst).cuda()\n",
    "    return t\n",
    "\n",
    "x_train, y_train, x_valid, y_valid = map(to_cuda_tensor, [x_train, y_train, x_valid, y_valid])\n",
    "[t.shape for t in [x_train, y_train, x_valid, y_valid]]"
   ]
  },
  {
   "cell_type": "markdown",
   "id": "3da7f95a-900f-4fbb-a846-72d823208277",
   "metadata": {},
   "source": [
    "Now we'll write some loops to train the model by using the standard SGD process - training the model means looping over some number of epochs, training an epoch means looping over all the minibatches in the dataset."
   ]
  },
  {
   "cell_type": "code",
   "execution_count": 4,
   "id": "69f173cf-93bf-49be-b263-9e3f63042ec6",
   "metadata": {},
   "outputs": [],
   "source": [
    "TRAIN_SIZE=x_train.shape[0]\n",
    "BATCH_SIZE=1000\n",
    "LEARNING_RATE = 0.1\n",
    "\n",
    "'''\n",
    "epoch goes through entire training set\n",
    "'''\n",
    "def train_epoch(epoch, model):\n",
    "    model.train()\n",
    "    rand_indexes=torch.randperm(TRAIN_SIZE)\n",
    "    '''\n",
    "    each batch is a random subset of the training set, loop over batches to cover all training data\n",
    "    '''\n",
    "    for i in range(0, TRAIN_SIZE, BATCH_SIZE):\n",
    "        '''\n",
    "        Note that this approach is likely to miss some training data and view other data\n",
    "        multiple times per epoch. It may be far from optimal for many situations, but\n",
    "        it's very simple, and more randomness is usually not too bad in machine learning.\n",
    "        '''\n",
    "        idxs = rand_indexes[i : i + BATCH_SIZE]\n",
    "        xb = x_train[idxs]\n",
    "        yb = y_train[idxs]\n",
    "        batch_preds, batch_loss = train_batch(model, xb, yb)\n",
    "                \n",
    "    # at the end of epoch, check model performance against validation data\n",
    "    with torch.no_grad():\n",
    "        model.eval()\n",
    "        valid_preds = model(x_valid)\n",
    "        validation_acc = batch_accuracy(valid_preds, y_valid)\n",
    "        validation_loss = F.cross_entropy(valid_preds, y_valid)\n",
    "    \n",
    "    # print stats for validation set, and the _last batch_ of training data, after the epoch\n",
    "    print_stats(epoch, batch_preds, yb, valid_preds, y_valid, validation_loss, batch_loss)\n",
    "    \n",
    "def print_stats(epoch, train_preds, train_yb, test_preds, test_yb, train_loss, test_loss):\n",
    "    test_acc = batch_accuracy(test_preds, test_yb)\n",
    "    train_acc = batch_accuracy(train_preds, train_yb)\n",
    "    print(f'epoch {epoch}:\\ttest/acc={test_acc:.3f}\\ttest/loss={test_loss:.3f}\\ttrain/acc={train_acc:.3f}\\ttrain/loss={train_loss}')\n",
    "                \n",
    "def train_batch(model, xb, yb):\n",
    "    preds = model(xb)\n",
    "    loss = F.cross_entropy(preds, yb)\n",
    "\n",
    "    # compute gradients: done by pytorch, see backpropagation notebook for implementation demo\n",
    "    loss.backward()\n",
    "\n",
    "    with torch.no_grad():\n",
    "        # update parameters to descend the gradient\n",
    "        for p in model.parameters():\n",
    "            p -= LEARNING_RATE * p.grad\n",
    "            p.grad.zero_()   \n",
    "    return preds, loss\n",
    "    \n",
    "def batch_accuracy(preds_b, yb):\n",
    "    correct = (preds_b.argmax(1)) == yb\n",
    "    return correct.float().mean()\n",
    "\n",
    "def train_model(epochs, model):\n",
    "    model = model.cuda()\n",
    "    for epoch in range(epochs):\n",
    "        train_epoch(epoch, model)"
   ]
  },
  {
   "cell_type": "markdown",
   "id": "59d0a246-2756-4551-88c9-f233342c8bfc",
   "metadata": {},
   "source": [
    "# Dropout Model"
   ]
  },
  {
   "cell_type": "markdown",
   "id": "4f5601be-9b4d-4952-bd77-3f79882f1f74",
   "metadata": {},
   "source": [
    "Let's now write the code to implement Dropout, explain how it works, and see what kind of results we can get on an MNIST classifier using it."
   ]
  },
  {
   "cell_type": "code",
   "execution_count": 5,
   "id": "ab9d50e7-31c8-4d3c-9559-fa28173ba7e3",
   "metadata": {},
   "outputs": [],
   "source": [
    "class Dropout1D(nn.Module):\n",
    "    def __init__(self, p=0.5):\n",
    "        super().__init__()\n",
    "        '''\n",
    "        This parameter refects the probability that, for a single activation in the input passed into Dropout,\n",
    "        the activation will be kept and not dropped.\n",
    "        '''\n",
    "        self.p = p\n",
    "    \n",
    "    def forward(self, x):\n",
    "        if self.training:\n",
    "            device=x.device\n",
    "            probs = torch.empty((x.shape[1],)).fill_(self.p)\n",
    "            bernoulli = torch.bernoulli(probs).to(x.device)\n",
    "            return x * bernoulli\n",
    "        else:\n",
    "            return x * self.p\n",
    "\n",
    "def LinWithRelu(*sz):\n",
    "    return nn.Sequential(\n",
    "        nn.Linear(*sz),\n",
    "        nn.ReLU()\n",
    "    )\n",
    "\n",
    "def LinReluDropout(p, sz):\n",
    "    return nn.Sequential(\n",
    "        LinWithRelu(*sz),\n",
    "        Dropout1D(p),\n",
    "    )\n"
   ]
  },
  {
   "cell_type": "markdown",
   "id": "f54e29ac-f77f-4f6a-bd4c-a50f7cf3cd79",
   "metadata": {},
   "source": [
    "Dropout works by randomly \"dropping\" or zeroing out, some percentage of the activations received by a layer. We do that be elementwise multiplying the input, x, by a same-sized vector of 0s and 1s, the dropout layer, where the 0s and 1s are randomly chosen at every forward pass so that approximately the given percentage of them (p=0.9 meaning 90% of them) will be the number 1."
   ]
  },
  {
   "cell_type": "code",
   "execution_count": 6,
   "id": "fe1588be-75ab-40e1-b5f6-878f78e235ce",
   "metadata": {},
   "outputs": [
    {
     "data": {
      "text/plain": [
       "tensor([3., 0., 1., 6., 8., 3., 4., 0., 5., 8., 0., 0.])"
      ]
     },
     "execution_count": 6,
     "metadata": {},
     "output_type": "execute_result"
    }
   ],
   "source": [
    "# not randomly chosen., just demonstrating the multiplication:\n",
    "dropout_vec =    torch.tensor([1., 0., 1., 1., 1., 1., 1., 0., 1., 1., 0., 0])\n",
    "x =              torch.tensor([3., 4., 1., 6., 8., 3., 4., 3., 5., 8., 8., 2])\n",
    "dropout_vec * x"
   ]
  },
  {
   "cell_type": "markdown",
   "id": "b2368bd6-8583-48b2-bd5b-431920a45a97",
   "metadata": {},
   "source": [
    "How do we generate the \"dropout\" vector? Using a bernoulli distribution. We use pytorch's built-in way to sample a Bernoulli distribution to get a vector where each element has a probability \"p\" of equalling 1, and probability (1-p) of equalling 0:"
   ]
  },
  {
   "cell_type": "code",
   "execution_count": 7,
   "id": "1cbb143f-06a6-4601-add7-19db24622bbe",
   "metadata": {},
   "outputs": [
    {
     "data": {
      "text/plain": [
       "tensor([0., 1., 1., 1., 1., 0., 0., 1., 1., 1., 0., 0.])"
      ]
     },
     "execution_count": 7,
     "metadata": {},
     "output_type": "execute_result"
    }
   ],
   "source": [
    "p=0.7\n",
    "bern = torch.distributions.bernoulli.Bernoulli(probs=p).sample(x.shape)\n",
    "bern"
   ]
  },
  {
   "cell_type": "markdown",
   "id": "cf6c2a6f-3a2c-4d75-9533-9d7d153bed02",
   "metadata": {},
   "source": [
    "and multiplying that bernoulli vector elementwise by x will drop the needed values:"
   ]
  },
  {
   "cell_type": "code",
   "execution_count": 8,
   "id": "79e1a40e-2775-4007-82d9-e0b84c0baa8f",
   "metadata": {},
   "outputs": [
    {
     "data": {
      "text/plain": [
       "(tensor([3., 4., 1., 6., 8., 3., 4., 3., 5., 8., 8., 2.]),\n",
       " tensor([0., 1., 1., 1., 1., 0., 0., 1., 1., 1., 0., 0.]),\n",
       " tensor([0., 4., 1., 6., 8., 0., 0., 3., 5., 8., 0., 0.]))"
      ]
     },
     "execution_count": 8,
     "metadata": {},
     "output_type": "execute_result"
    }
   ],
   "source": [
    "x, bern, bern * x"
   ]
  },
  {
   "attachments": {
    "d1c32941-66e0-4634-ac33-6b933e3cedc1.png": {
     "image/png": "[encoded data removed]"
    }
   },
   "cell_type": "markdown",
   "id": "24f6e49c-1e48-429f-bfe6-7ce506e41ba8",
   "metadata": {},
   "source": [
    "When we're not training the model, we want to keep all the activations. The problem is that if we've trained by only keeping a fraction p of them, then if we don't drop any later on during validation steps or when using it \"in production,\" then the average magnitude of an activation will be larger than the layer succeeding the Dropout layer was trained to receive. It will also have a higher standard deviation. We'll therefore, when _not_ training the model, return all inputs but scaled-up by a factor of p, the same p used to sample the Bernoulli tensor.\n",
    "\n",
    "From the original paper:\n",
    "\n",
    "![Screenshot 2024-01-31 at 4.38.32 PM.png](attachment:d1c32941-66e0-4634-ac33-6b933e3cedc1.png)\n",
    "\n",
    "Look how Dropout changes the expected value of an activation compared to the original input, and how the \"scaling\" trick restores the expected value that subsequent layers of the model will be used to receiving during training."
   ]
  },
  {
   "cell_type": "code",
   "execution_count": 9,
   "id": "092197f4-c08d-4fe9-85ea-daea384d9e81",
   "metadata": {},
   "outputs": [
    {
     "data": {
      "text/plain": [
       "(tensor(0.50), tensor(0.35), tensor(0.35))"
      ]
     },
     "execution_count": 9,
     "metadata": {},
     "output_type": "execute_result"
    }
   ],
   "source": [
    "# while making predictions on validation dataset or in production\n",
    "x = torch.rand((1_000_000,))\n",
    "p = 0.7\n",
    "bern = torch.distributions.bernoulli.Bernoulli(p).sample(x.shape)\n",
    "\n",
    "eval_output = x * p\n",
    "train_output = x * bern\n",
    "\n",
    "x.mean(), eval_output.mean(), train_output.mean()"
   ]
  },
  {
   "cell_type": "markdown",
   "id": "cc54b825-f91b-461b-bc07-d0b4839d2b4d",
   "metadata": {},
   "source": [
    "We can see that scaling the output at evaluation time allows the expected value of each activation to remain at the same magnitude. It's worth noting, however, that this does _not_ apply to variance, and variance of activation values are a very important topic, and Dropout makes that more difficult to manage. We won't address that here."
   ]
  },
  {
   "cell_type": "markdown",
   "id": "d4c64956-0243-453c-9123-7a0728117e15",
   "metadata": {},
   "source": [
    "Let's train the model and see how well it works!"
   ]
  },
  {
   "cell_type": "code",
   "execution_count": 10,
   "id": "b15b3d2a-0ffd-4c88-ae4d-f06dc4ac5ed8",
   "metadata": {},
   "outputs": [
    {
     "name": "stdout",
     "output_type": "stream",
     "text": [
      "epoch 0:\ttest/acc=0.691\ttest/loss=2.044\ttrain/acc=0.679\ttrain/loss=2.0126254558563232\n",
      "epoch 1:\ttest/acc=0.762\ttest/loss=0.904\ttrain/acc=0.772\ttrain/loss=0.8366471529006958\n",
      "epoch 2:\ttest/acc=0.838\ttest/loss=0.578\ttrain/acc=0.786\ttrain/loss=0.5576978325843811\n",
      "epoch 3:\ttest/acc=0.864\ttest/loss=0.537\ttrain/acc=0.816\ttrain/loss=0.44125449657440186\n",
      "epoch 4:\ttest/acc=0.908\ttest/loss=0.380\ttrain/acc=0.891\ttrain/loss=0.33094996213912964\n",
      "epoch 5:\ttest/acc=0.911\ttest/loss=0.327\ttrain/acc=0.906\ttrain/loss=0.31101763248443604\n",
      "epoch 6:\ttest/acc=0.922\ttest/loss=0.292\ttrain/acc=0.920\ttrain/loss=0.278736412525177\n",
      "epoch 7:\ttest/acc=0.922\ttest/loss=0.270\ttrain/acc=0.927\ttrain/loss=0.27532845735549927\n",
      "epoch 8:\ttest/acc=0.931\ttest/loss=0.270\ttrain/acc=0.920\ttrain/loss=0.24898649752140045\n",
      "epoch 9:\ttest/acc=0.928\ttest/loss=0.222\ttrain/acc=0.936\ttrain/loss=0.24538768827915192\n"
     ]
    }
   ],
   "source": [
    "lin_dropout = nn.Sequential(\n",
    "    LinReluDropout(0.9, (784, 8192)),\n",
    "    LinReluDropout(0.8, (8192, 8192)),\n",
    "    LinReluDropout(0.8, (8192, 8192)),\n",
    "    nn.Linear(8192, 10) # not using dropout on the final layer\n",
    ")\n",
    "\n",
    "epochs=10\n",
    "train_model(epochs, lin_dropout)"
   ]
  },
  {
   "cell_type": "code",
   "execution_count": 11,
   "id": "0eeecc09-9022-4bbf-a493-362cd09c132b",
   "metadata": {},
   "outputs": [
    {
     "name": "stdout",
     "output_type": "stream",
     "text": [
      "epoch 0:\ttest/acc=0.655\ttest/loss=2.033\ttrain/acc=0.609\ttrain/loss=2.0046274662017822\n",
      "epoch 1:\ttest/acc=0.812\ttest/loss=0.884\ttrain/acc=0.785\ttrain/loss=0.791739284992218\n",
      "epoch 2:\ttest/acc=0.857\ttest/loss=0.540\ttrain/acc=0.834\ttrain/loss=0.5102406144142151\n",
      "epoch 3:\ttest/acc=0.857\ttest/loss=0.509\ttrain/acc=0.856\ttrain/loss=0.4455821216106415\n",
      "epoch 4:\ttest/acc=0.904\ttest/loss=0.403\ttrain/acc=0.888\ttrain/loss=0.3393307328224182\n",
      "epoch 5:\ttest/acc=0.916\ttest/loss=0.321\ttrain/acc=0.903\ttrain/loss=0.3077983558177948\n",
      "epoch 6:\ttest/acc=0.921\ttest/loss=0.312\ttrain/acc=0.922\ttrain/loss=0.28513863682746887\n",
      "epoch 7:\ttest/acc=0.917\ttest/loss=0.289\ttrain/acc=0.912\ttrain/loss=0.28559666872024536\n",
      "epoch 8:\ttest/acc=0.923\ttest/loss=0.300\ttrain/acc=0.926\ttrain/loss=0.26086339354515076\n",
      "epoch 9:\ttest/acc=0.931\ttest/loss=0.260\ttrain/acc=0.923\ttrain/loss=0.2404402643442154\n"
     ]
    }
   ],
   "source": [
    "lin_dropout = nn.Sequential(\n",
    "    LinReluDropout(0.9, (784, 8192)),\n",
    "    LinReluDropout(0.8, (8192, 8192)),\n",
    "    LinReluDropout(0.8, (8192, 8192)),\n",
    "    nn.Linear(8192, 10) # not using dropout on the final layer\n",
    ")\n",
    "\n",
    "epochs=10\n",
    "train_model(epochs, lin_dropout)"
   ]
  },
  {
   "cell_type": "markdown",
   "id": "4a0e2e75-ed0f-46a0-b796-d9ba871c3d0b",
   "metadata": {},
   "source": [
    "# Comparison to Fully-connected network without Dropout"
   ]
  },
  {
   "cell_type": "markdown",
   "id": "20f6e042-bfbe-4af3-a12d-7f6a158ab3d7",
   "metadata": {},
   "source": [
    "How does Dropout compare to _not_ using dropout? Let's write a simple linear model, identical to the previous one except for not using dropout."
   ]
  },
  {
   "cell_type": "code",
   "execution_count": 12,
   "id": "340d6f1a-bc3a-498b-b462-c59178d86f82",
   "metadata": {},
   "outputs": [
    {
     "name": "stdout",
     "output_type": "stream",
     "text": [
      "epoch 0:\ttest/acc=0.829\ttest/loss=0.945\ttrain/acc=0.798\ttrain/loss=0.8940132856369019\n",
      "epoch 1:\ttest/acc=0.885\ttest/loss=0.511\ttrain/acc=0.858\ttrain/loss=0.44120755791664124\n",
      "epoch 2:\ttest/acc=0.908\ttest/loss=0.347\ttrain/acc=0.907\ttrain/loss=0.3311283588409424\n",
      "epoch 3:\ttest/acc=0.900\ttest/loss=0.386\ttrain/acc=0.903\ttrain/loss=0.3372243046760559\n",
      "epoch 4:\ttest/acc=0.926\ttest/loss=0.266\ttrain/acc=0.922\ttrain/loss=0.26230525970458984\n",
      "epoch 5:\ttest/acc=0.931\ttest/loss=0.269\ttrain/acc=0.922\ttrain/loss=0.24377484619617462\n",
      "epoch 6:\ttest/acc=0.936\ttest/loss=0.223\ttrain/acc=0.931\ttrain/loss=0.2235965132713318\n",
      "epoch 7:\ttest/acc=0.942\ttest/loss=0.235\ttrain/acc=0.929\ttrain/loss=0.21045100688934326\n",
      "epoch 8:\ttest/acc=0.945\ttest/loss=0.191\ttrain/acc=0.949\ttrain/loss=0.1966145634651184\n",
      "epoch 9:\ttest/acc=0.947\ttest/loss=0.199\ttrain/acc=0.947\ttrain/loss=0.19025175273418427\n"
     ]
    }
   ],
   "source": [
    "linmod = nn.Sequential(\n",
    "    LinWithRelu(784, 8192),\n",
    "    LinWithRelu(8192, 8192),\n",
    "    LinWithRelu(8192, 8192),\n",
    "    nn.Linear(8192, 10)\n",
    ")\n",
    "\n",
    "epochs=10\n",
    "train_model(epochs, linmod)"
   ]
  },
  {
   "cell_type": "markdown",
   "id": "55273c56-2f86-40ee-9fcb-c96b1700c288",
   "metadata": {},
   "source": [
    "# Disappointment, but with a lesson"
   ]
  },
  {
   "cell_type": "markdown",
   "id": "f5be264b-ccdf-4c8e-8174-0ab9943f4165",
   "metadata": {},
   "source": [
    "Looks like _not_ using dropout actually worked better! To see why, it's helpful to realize what problem dropout is trying to solve.\n",
    "\n",
    "Dropout adds regularization to a network and helps address network overparameterization and overfitting. It is about toxic and fragile co-adaptations between layers where a model can be so complex that \"mistakes\" in one layer can be \"corrected\" by another layer. It would be better to iron out the mistakes in the first place, though! By randomly dropping activations, dropout can run through forward passes where the \"correction\" of one layer has nothing to correct because the mistake got \"dropped\" or the \"mistake\" of the first layer has nothing later on to correct it, so the mistake must be unlearned from the get-go.\n",
    "\n",
    "The original Dropout paper saw an improvement using dropout on the MNIST dataset, but they were also using fine-tuned hyperparameters and an extensive training budget to produce results that, at the time, were world-record breaking. For simpler ways of attacking MNIST, Dropout won't always help.\n",
    "\n",
    "But what we've seen now is how to build Dropout, and we've learnt something about what makes it useful, albeit in a surprising way.\n",
    "\n",
    "Stay tuned for Part II where we'll showcase Dropout in a more complex dataset that actually _needs_ it!"
   ]
  }
 ],
 "metadata": {
  "kernelspec": {
   "display_name": "Python 3 (ipykernel)",
   "language": "python",
   "name": "python3"
  },
  "language_info": {
   "codemirror_mode": {
    "name": "ipython",
    "version": 3
   },
   "file_extension": ".py",
   "mimetype": "text/x-python",
   "name": "python",
   "nbconvert_exporter": "python",
   "pygments_lexer": "ipython3",
   "version": "3.9.13"
  }
 },
 "nbformat": 4,
 "nbformat_minor": 5
}
